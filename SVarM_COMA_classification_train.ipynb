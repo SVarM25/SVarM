{
 "cells": [
  {
   "cell_type": "code",
   "execution_count": 1,
   "id": "1f277912",
   "metadata": {},
   "outputs": [
    {
     "name": "stdout",
     "output_type": "stream",
     "text": [
      "Jupyter environment detected. Enabling Open3D WebVisualizer.\n",
      "[Open3D INFO] WebRTC GUI backend enabled.\n",
      "[Open3D INFO] WebRTCWindowSystem: HTTP handshake server disabled.\n"
     ]
    }
   ],
   "source": [
    "import torch\n",
    "import torch.nn as nn\n",
    "import torch.optim as optim\n",
    "import os\n",
    "from torch.utils.data import Dataset, DataLoader\n",
    "from SVarM_utils import *\n",
    "from SVarM_models import Classifier\n",
    "from scipy.io import loadmat"
   ]
  },
  {
   "cell_type": "code",
   "execution_count": 2,
   "id": "a6f739d4-1398-499e-bdf4-3518c279d5d2",
   "metadata": {},
   "outputs": [],
   "source": [
    "from torch.utils.data import Dataset, DataLoader\n",
    "c=10\n",
    "classIDs = [\"17072500137\",\"17072803272\",\"17073100024\",\"17080900138\",\"17081103274\",\"17081103275\",\"17090400128\",\"17090403276\",\"17090803277\",\"17091203278\",\"17091303279\",\"17091500223\"]\n",
    "class MeshDataset(Dataset):\n",
    "    def __init__(self, IDs):\n",
    "        self.IDs = IDs\n",
    "\n",
    "    def __len__(self):\n",
    "        return len(self.IDs)\n",
    "\n",
    "    def __getitem__(self, idx):\n",
    "        file_path = self.IDs[idx]\n",
    "        y = file_path.split(\"/\")[1].split(\"_\")[1] + file_path.split(\"/\")[1].split(\"_\")[2]\n",
    "        y = classIDs.index(y)\n",
    "        print(y)\n",
    "        mesh = loadData(file_path.strip())  \n",
    "        return mesh, torch.tensor([y])\n",
    "\n",
    "matdata = loadmat(\"data_splits/COMA_data_splits.mat\")\n",
    "test_data = matdata['test_data'].tolist()\n",
    "train_data = matdata['train_data'].tolist()\n",
    "val_dataset = MeshDataset(test_data)\n",
    "train_dataset = MeshDataset(train_data)"
   ]
  },
  {
   "cell_type": "code",
   "execution_count": 3,
   "id": "dc0be7fe-4604-4d41-9f24-6e7f3eb8781f",
   "metadata": {},
   "outputs": [
    {
     "data": {
      "text/plain": [
       "1980"
      ]
     },
     "execution_count": 3,
     "metadata": {},
     "output_type": "execute_result"
    }
   ],
   "source": [
    "model = Classifier(12)\n",
    "sum(p.numel() for p in model.parameters() if p.requires_grad)"
   ]
  },
  {
   "cell_type": "code",
   "execution_count": 4,
   "id": "e69825ef-aefe-4df7-9fdd-b2f6218c6515",
   "metadata": {},
   "outputs": [],
   "source": [
    "batch_size =10\n",
    "train_loader = DataLoader(train_dataset, batch_size=batch_size, shuffle=True, collate_fn=lambda x: list(zip(*x)))\n",
    "val_loader = DataLoader(val_dataset, batch_size=batch_size, shuffle=False, collate_fn=lambda x: list(zip(*x)))\n",
    "criterion = nn.CrossEntropyLoss()\n",
    "optimizer = optim.Adam(model.parameters(), lr=.005)\n",
    "epochs = 100"
   ]
  },
  {
   "cell_type": "code",
   "execution_count": 6,
   "id": "0df91ac5-e231-4130-a7aa-9db6f55e3d6c",
   "metadata": {},
   "outputs": [
    {
     "name": "stdout",
     "output_type": "stream",
     "text": [
      "8\n",
      "[Open3D WARNING] Read PLY failed: unable to open file: COMA_data\\FaceTalk_170908_03277_TA\\mouth_middle\\mouth_middle.000004.ply\n",
      "11\n",
      "[Open3D WARNING] Read PLY failed: unable to open file: COMA_data\\FaceTalk_170915_00223_TA\\bareteeth\\bareteeth.000075.ply\n",
      "8\n",
      "[Open3D WARNING] Read PLY failed: unable to open file: COMA_data\\FaceTalk_170908_03277_TA\\bareteeth\\bareteeth.000078.ply\n",
      "2\n",
      "[Open3D WARNING] Read PLY failed: unable to open file: COMA_data\\FaceTalk_170731_00024_TA\\bareteeth\\bareteeth.000115.ply\n",
      "2\n",
      "[Open3D WARNING] Read PLY failed: unable to open file: COMA_data\\FaceTalk_170731_00024_TA\\eyebrow\\eyebrow.000079.ply\n",
      "7\n",
      "[Open3D WARNING] Read PLY failed: unable to open file: COMA_data\\FaceTalk_170904_03276_TA\\mouth_extreme\\mouth_extreme.000030.ply\n",
      "7\n",
      "[Open3D WARNING] Read PLY failed: unable to open file: COMA_data\\FaceTalk_170904_03276_TA\\bareteeth\\bareteeth.000058.ply\n",
      "8\n",
      "[Open3D WARNING] Read PLY failed: unable to open file: COMA_data\\FaceTalk_170908_03277_TA\\high_smile\\high_smile.000162.ply\n",
      "6\n",
      "[Open3D WARNING] Read PLY failed: unable to open file: COMA_data\\FaceTalk_170904_00128_TA\\eyebrow\\eyebrow.000128.ply\n",
      "6\n",
      "[Open3D WARNING] Read PLY failed: unable to open file: COMA_data\\FaceTalk_170904_00128_TA\\cheeks_in\\cheeks_in.000017.ply\n"
     ]
    },
    {
     "name": "stderr",
     "output_type": "stream",
     "text": [
      "\n",
      "KeyboardInterrupt\n",
      "\n"
     ]
    }
   ],
   "source": [
    "for epoch in range(epochs):\n",
    "        model.train()\n",
    "        count = 0\n",
    "        train_loss = 0.0\n",
    "        for meshs, y in train_loader: \n",
    "            y = torch.stack(y)\n",
    "            optimizer.zero_grad()\n",
    "            outputs = model(meshs)\n",
    "            loss = criterion(outputs, y)\n",
    "            loss.backward()\n",
    "            optimizer.step()\n",
    "\n",
    "            train_loss += loss.item()\n",
    "            count=count+1\n",
    "            \n",
    "            print(f\"Epoch [{count}/{len(train_loader)}] - Train Loss: {loss.item():.4f}\", end =\"\\r\")\n",
    "\n",
    "        train_loss /= len(train_loader)\n",
    "\n",
    "        # Validation phase\n",
    "        model.eval()\n",
    "        val_loss = 0.0\n",
    "        correct = 0\n",
    "        total = 0\n",
    "\n",
    "        with torch.no_grad():\n",
    "            for meshs, y in val_loader:\n",
    "                y = torch.stack(y)\n",
    "                outputs = model(meshs)\n",
    "                loss = criterion(outputs, y)\n",
    "                val_loss += loss.item()\n",
    "                # Compute accuracy\n",
    "                _, predicted = torch.max(outputs, 1)  # Get predicted class (index of max logit)\n",
    "                total += y.size(0)  # Total number of samples\n",
    "                correct += (predicted == y).sum().item()  # Count correct predictions\n",
    "        accuracy = 100 * correct / total \n",
    "\n",
    "        val_loss /= len(val_loader)\n",
    "\n",
    "        print(f\"Epoch [{epoch+1}/{epochs}] - Train Loss: {train_loss:.4f}, Val Loss: {val_loss:.4f}, Accuracy: {accuracy:.2f}%\")"
   ]
  },
  {
   "cell_type": "code",
   "execution_count": null,
   "id": "38ecd98f-6774-4a19-89ad-90d9539370ab",
   "metadata": {},
   "outputs": [],
   "source": []
  }
 ],
 "metadata": {
  "kernelspec": {
   "display_name": "Python 3 (ipykernel)",
   "language": "python",
   "name": "python3"
  },
  "language_info": {
   "codemirror_mode": {
    "name": "ipython",
    "version": 3
   },
   "file_extension": ".py",
   "mimetype": "text/x-python",
   "name": "python",
   "nbconvert_exporter": "python",
   "pygments_lexer": "ipython3",
   "version": "3.11.5"
  }
 },
 "nbformat": 4,
 "nbformat_minor": 5
}
