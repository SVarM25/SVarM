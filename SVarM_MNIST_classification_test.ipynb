{
 "cells": [
  {
   "cell_type": "code",
   "execution_count": 1,
   "id": "1f277912",
   "metadata": {},
   "outputs": [
    {
     "name": "stdout",
     "output_type": "stream",
     "text": [
      "Jupyter environment detected. Enabling Open3D WebVisualizer.\n",
      "[Open3D INFO] WebRTC GUI backend enabled.\n",
      "[Open3D INFO] WebRTCWindowSystem: HTTP handshake server disabled.\n"
     ]
    }
   ],
   "source": [
    "import torch\n",
    "import torch.nn as nn\n",
    "import torch.optim as optim\n",
    "import os\n",
    "from torch.utils.data import Dataset, DataLoader\n",
    "from SVarM_utils import *\n",
    "from SVarM_models import Classifier\n",
    "from scipy.io import loadmat"
   ]
  },
  {
   "cell_type": "code",
   "execution_count": 2,
   "id": "a6f739d4-1398-499e-bdf4-3518c279d5d2",
   "metadata": {},
   "outputs": [],
   "source": [
    "from torch.utils.data import Dataset, DataLoader\n",
    "c=10\n",
    "\n",
    "class MeshDataset(Dataset):\n",
    "    def __init__(self, IDs):\n",
    "        self.IDs = IDs\n",
    "\n",
    "    def __len__(self):\n",
    "        return len(self.IDs)\n",
    "\n",
    "    def __getitem__(self, idx):\n",
    "        file_path = self.IDs[idx]\n",
    "        y = int(file_path.split(\"/\")[1].split(\"_\")[0])\n",
    "        print(file_path)\n",
    "        mesh = loadData(file_path.strip())  \n",
    "        return mesh, torch.tensor([y])\n",
    "\n",
    "matdata = loadmat(\"data_splits/MNIST_data_splits.mat\")\n",
    "test_data = matdata['test_data'].tolist()\n",
    "train_data = matdata['train_data'].tolist()\n",
    "val_dataset = MeshDataset(test_data)"
   ]
  },
  {
   "cell_type": "code",
   "execution_count": 3,
   "id": "dc0be7fe-4604-4d41-9f24-6e7f3eb8781f",
   "metadata": {},
   "outputs": [
    {
     "data": {
      "text/plain": [
       "<All keys matched successfully>"
      ]
     },
     "execution_count": 3,
     "metadata": {},
     "output_type": "execute_result"
    }
   ],
   "source": [
    "model = Classifier(10)\n",
    "sum(p.numel() for p in model.parameters() if p.requires_grad)\n",
    "model.load_state_dict(torch.load(\"trained_models/mnist_classifier\"))"
   ]
  },
  {
   "cell_type": "code",
   "execution_count": 4,
   "id": "e69825ef-aefe-4df7-9fdd-b2f6218c6515",
   "metadata": {},
   "outputs": [],
   "source": [
    "batch_size =12\n",
    "val_loader = DataLoader(val_dataset, batch_size=batch_size, shuffle=False, collate_fn=lambda x: list(zip(*x)))\n",
    "criterion = nn.CrossEntropyLoss()"
   ]
  },
  {
   "cell_type": "code",
   "execution_count": 7,
   "id": "0df91ac5-e231-4130-a7aa-9db6f55e3d6c",
   "metadata": {},
   "outputs": [
    {
     "name": "stdout",
     "output_type": "stream",
     "text": [
      "MNIST_remeshed/0_0.ply    \n",
      "[Open3D WARNING] Read PLY failed: unable to open file: MNIST_remeshed\\0_0.ply\n",
      "MNIST_remeshed/0_1003.ply \n",
      "[Open3D WARNING] Read PLY failed: unable to open file: MNIST_remeshed\\0_1003.ply\n",
      "MNIST_remeshed/0_1012.ply \n",
      "[Open3D WARNING] Read PLY failed: unable to open file: MNIST_remeshed\\0_1012.ply\n",
      "MNIST_remeshed/0_1013.ply \n",
      "[Open3D WARNING] Read PLY failed: unable to open file: MNIST_remeshed\\0_1013.ply\n",
      "MNIST_remeshed/0_1016.ply \n",
      "[Open3D WARNING] Read PLY failed: unable to open file: MNIST_remeshed\\0_1016.ply\n",
      "MNIST_remeshed/0_1019.ply \n",
      "[Open3D WARNING] Read PLY failed: unable to open file: MNIST_remeshed\\0_1019.ply\n",
      "MNIST_remeshed/0_1021.ply \n",
      "[Open3D WARNING] Read PLY failed: unable to open file: MNIST_remeshed\\0_1021.ply\n",
      "MNIST_remeshed/0_1024.ply \n",
      "[Open3D WARNING] Read PLY failed: unable to open file: MNIST_remeshed\\0_1024.ply\n",
      "MNIST_remeshed/0_1025.ply \n",
      "[Open3D WARNING] Read PLY failed: unable to open file: MNIST_remeshed\\0_1025.ply\n",
      "MNIST_remeshed/0_1026.ply \n",
      "[Open3D WARNING] Read PLY failed: unable to open file: MNIST_remeshed\\0_1026.ply\n",
      "MNIST_remeshed/0_1030.ply \n",
      "[Open3D WARNING] Read PLY failed: unable to open file: MNIST_remeshed\\0_1030.ply\n",
      "MNIST_remeshed/0_1033.ply \n",
      "[Open3D WARNING] Read PLY failed: unable to open file: MNIST_remeshed\\0_1033.ply\n",
      "(tensor([0]), tensor([0]), tensor([0]), tensor([0]), tensor([0]), tensor([0]), tensor([0]), tensor([0]), tensor([0]), tensor([0]), tensor([0]), tensor([0]))\n",
      "torch.Size([12, 1]) torch.Size([12, 0, 10])\n"
     ]
    },
    {
     "ename": "RuntimeError",
     "evalue": "Expected target size [12, 10], got [12, 1]",
     "output_type": "error",
     "traceback": [
      "\u001b[1;31m---------------------------------------------------------------------------\u001b[0m",
      "\u001b[1;31mRuntimeError\u001b[0m                              Traceback (most recent call last)",
      "Cell \u001b[1;32mIn[7], line 11\u001b[0m\n\u001b[0;32m      9\u001b[0m outputs \u001b[38;5;241m=\u001b[39m model(meshs)\n\u001b[0;32m     10\u001b[0m \u001b[38;5;28mprint\u001b[39m(y\u001b[38;5;241m.\u001b[39mshape,outputs\u001b[38;5;241m.\u001b[39mshape)\n\u001b[1;32m---> 11\u001b[0m loss \u001b[38;5;241m=\u001b[39m criterion(outputs, y)\n\u001b[0;32m     12\u001b[0m val_loss \u001b[38;5;241m+\u001b[39m\u001b[38;5;241m=\u001b[39m loss\u001b[38;5;241m.\u001b[39mitem()\n\u001b[0;32m     13\u001b[0m \u001b[38;5;66;03m# Compute accuracy\u001b[39;00m\n",
      "File \u001b[1;32mD:\\Anaconda\\Lib\\site-packages\\torch\\nn\\modules\\module.py:1518\u001b[0m, in \u001b[0;36mModule._wrapped_call_impl\u001b[1;34m(self, *args, **kwargs)\u001b[0m\n\u001b[0;32m   1516\u001b[0m     \u001b[38;5;28;01mreturn\u001b[39;00m \u001b[38;5;28mself\u001b[39m\u001b[38;5;241m.\u001b[39m_compiled_call_impl(\u001b[38;5;241m*\u001b[39margs, \u001b[38;5;241m*\u001b[39m\u001b[38;5;241m*\u001b[39mkwargs)  \u001b[38;5;66;03m# type: ignore[misc]\u001b[39;00m\n\u001b[0;32m   1517\u001b[0m \u001b[38;5;28;01melse\u001b[39;00m:\n\u001b[1;32m-> 1518\u001b[0m     \u001b[38;5;28;01mreturn\u001b[39;00m \u001b[38;5;28mself\u001b[39m\u001b[38;5;241m.\u001b[39m_call_impl(\u001b[38;5;241m*\u001b[39margs, \u001b[38;5;241m*\u001b[39m\u001b[38;5;241m*\u001b[39mkwargs)\n",
      "File \u001b[1;32mD:\\Anaconda\\Lib\\site-packages\\torch\\nn\\modules\\module.py:1527\u001b[0m, in \u001b[0;36mModule._call_impl\u001b[1;34m(self, *args, **kwargs)\u001b[0m\n\u001b[0;32m   1522\u001b[0m \u001b[38;5;66;03m# If we don't have any hooks, we want to skip the rest of the logic in\u001b[39;00m\n\u001b[0;32m   1523\u001b[0m \u001b[38;5;66;03m# this function, and just call forward.\u001b[39;00m\n\u001b[0;32m   1524\u001b[0m \u001b[38;5;28;01mif\u001b[39;00m \u001b[38;5;129;01mnot\u001b[39;00m (\u001b[38;5;28mself\u001b[39m\u001b[38;5;241m.\u001b[39m_backward_hooks \u001b[38;5;129;01mor\u001b[39;00m \u001b[38;5;28mself\u001b[39m\u001b[38;5;241m.\u001b[39m_backward_pre_hooks \u001b[38;5;129;01mor\u001b[39;00m \u001b[38;5;28mself\u001b[39m\u001b[38;5;241m.\u001b[39m_forward_hooks \u001b[38;5;129;01mor\u001b[39;00m \u001b[38;5;28mself\u001b[39m\u001b[38;5;241m.\u001b[39m_forward_pre_hooks\n\u001b[0;32m   1525\u001b[0m         \u001b[38;5;129;01mor\u001b[39;00m _global_backward_pre_hooks \u001b[38;5;129;01mor\u001b[39;00m _global_backward_hooks\n\u001b[0;32m   1526\u001b[0m         \u001b[38;5;129;01mor\u001b[39;00m _global_forward_hooks \u001b[38;5;129;01mor\u001b[39;00m _global_forward_pre_hooks):\n\u001b[1;32m-> 1527\u001b[0m     \u001b[38;5;28;01mreturn\u001b[39;00m forward_call(\u001b[38;5;241m*\u001b[39margs, \u001b[38;5;241m*\u001b[39m\u001b[38;5;241m*\u001b[39mkwargs)\n\u001b[0;32m   1529\u001b[0m \u001b[38;5;28;01mtry\u001b[39;00m:\n\u001b[0;32m   1530\u001b[0m     result \u001b[38;5;241m=\u001b[39m \u001b[38;5;28;01mNone\u001b[39;00m\n",
      "File \u001b[1;32mD:\\Anaconda\\Lib\\site-packages\\torch\\nn\\modules\\loss.py:1179\u001b[0m, in \u001b[0;36mCrossEntropyLoss.forward\u001b[1;34m(self, input, target)\u001b[0m\n\u001b[0;32m   1178\u001b[0m \u001b[38;5;28;01mdef\u001b[39;00m \u001b[38;5;21mforward\u001b[39m(\u001b[38;5;28mself\u001b[39m, \u001b[38;5;28minput\u001b[39m: Tensor, target: Tensor) \u001b[38;5;241m-\u001b[39m\u001b[38;5;241m>\u001b[39m Tensor:\n\u001b[1;32m-> 1179\u001b[0m     \u001b[38;5;28;01mreturn\u001b[39;00m F\u001b[38;5;241m.\u001b[39mcross_entropy(\u001b[38;5;28minput\u001b[39m, target, weight\u001b[38;5;241m=\u001b[39m\u001b[38;5;28mself\u001b[39m\u001b[38;5;241m.\u001b[39mweight,\n\u001b[0;32m   1180\u001b[0m                            ignore_index\u001b[38;5;241m=\u001b[39m\u001b[38;5;28mself\u001b[39m\u001b[38;5;241m.\u001b[39mignore_index, reduction\u001b[38;5;241m=\u001b[39m\u001b[38;5;28mself\u001b[39m\u001b[38;5;241m.\u001b[39mreduction,\n\u001b[0;32m   1181\u001b[0m                            label_smoothing\u001b[38;5;241m=\u001b[39m\u001b[38;5;28mself\u001b[39m\u001b[38;5;241m.\u001b[39mlabel_smoothing)\n",
      "File \u001b[1;32mD:\\Anaconda\\Lib\\site-packages\\torch\\nn\\functional.py:3053\u001b[0m, in \u001b[0;36mcross_entropy\u001b[1;34m(input, target, weight, size_average, ignore_index, reduce, reduction, label_smoothing)\u001b[0m\n\u001b[0;32m   3051\u001b[0m \u001b[38;5;28;01mif\u001b[39;00m size_average \u001b[38;5;129;01mis\u001b[39;00m \u001b[38;5;129;01mnot\u001b[39;00m \u001b[38;5;28;01mNone\u001b[39;00m \u001b[38;5;129;01mor\u001b[39;00m reduce \u001b[38;5;129;01mis\u001b[39;00m \u001b[38;5;129;01mnot\u001b[39;00m \u001b[38;5;28;01mNone\u001b[39;00m:\n\u001b[0;32m   3052\u001b[0m     reduction \u001b[38;5;241m=\u001b[39m _Reduction\u001b[38;5;241m.\u001b[39mlegacy_get_string(size_average, reduce)\n\u001b[1;32m-> 3053\u001b[0m \u001b[38;5;28;01mreturn\u001b[39;00m torch\u001b[38;5;241m.\u001b[39m_C\u001b[38;5;241m.\u001b[39m_nn\u001b[38;5;241m.\u001b[39mcross_entropy_loss(\u001b[38;5;28minput\u001b[39m, target, weight, _Reduction\u001b[38;5;241m.\u001b[39mget_enum(reduction), ignore_index, label_smoothing)\n",
      "\u001b[1;31mRuntimeError\u001b[0m: Expected target size [12, 10], got [12, 1]"
     ]
    }
   ],
   "source": [
    "val_loss = 0.0\n",
    "correct = 0\n",
    "total = 0\n",
    "\n",
    "with torch.no_grad():\n",
    "    for meshs, y in val_loader:\n",
    "        print(y)\n",
    "        y = torch.stack(y)\n",
    "        outputs = model(meshs)\n",
    "        print(y.shape,outputs.shape)\n",
    "        loss = criterion(outputs, y)\n",
    "        val_loss += loss.item()\n",
    "        # Compute accuracy\n",
    "        _, predicted = torch.max(outputs, 1)  # Get predicted class (index of max logit)\n",
    "        total += y.size(0)  # Total number of samples\n",
    "        correct += (predicted == y).sum().item()  # Count correct predictions\n",
    "accuracy = 100 * correct / total \n",
    "\n",
    "val_loss /= len(val_loader)\n",
    "\n",
    "print(f\"Val Loss: {val_loss:.4f}, Accuracy: {accuracy:.2f}%\")"
   ]
  },
  {
   "cell_type": "code",
   "execution_count": null,
   "id": "38ecd98f-6774-4a19-89ad-90d9539370ab",
   "metadata": {},
   "outputs": [],
   "source": []
  }
 ],
 "metadata": {
  "kernelspec": {
   "display_name": "Python 3 (ipykernel)",
   "language": "python",
   "name": "python3"
  },
  "language_info": {
   "codemirror_mode": {
    "name": "ipython",
    "version": 3
   },
   "file_extension": ".py",
   "mimetype": "text/x-python",
   "name": "python",
   "nbconvert_exporter": "python",
   "pygments_lexer": "ipython3",
   "version": "3.11.5"
  }
 },
 "nbformat": 4,
 "nbformat_minor": 5
}
